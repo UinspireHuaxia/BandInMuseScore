{
  "nbformat": 4,
  "nbformat_minor": 0,
  "metadata": {
    "colab": {
      "name": "Introduction to catsim by example",
      "provenance": [],
      "collapsed_sections": [],
      "private_outputs": true,
      "include_colab_link": true
    },
    "kernelspec": {
      "name": "python3",
      "display_name": "Python 3"
    }
  },
  "cells": [
    {
      "cell_type": "markdown",
      "metadata": {
        "id": "view-in-github",
        "colab_type": "text"
      },
      "source": [
        "<a href=\"https://colab.research.google.com/github/UinspireHuaxia/BandInMuseScore/blob/master/Introduction_to_catsim_by_example.ipynb\" target=\"_parent\"><img src=\"https://colab.research.google.com/assets/colab-badge.svg\" alt=\"Open In Colab\"/></a>"
      ]
    },
    {
      "cell_type": "markdown",
      "metadata": {
        "id": "dJijIylN8zht"
      },
      "source": [
        "# Example usages\n",
        "\n",
        "![](https://douglasrizzo.com.br/catsim/_static/logo_text.svg)\n",
        "\n",
        "This is a tutorial for [catsim](https://github.com/douglasrizzo/catsim/), a Python package which allows users to simulate computerized adaptive tests or to use in their own applications with the purpose of automating adaptive tests.\n",
        "\n",
        "This tutorial was originally developed as a notebook on Google Colab, so, if for any reason you are seeing this outside of Colab, you can go back to Colab, copy it and test it yourself using [this link](https://colab.research.google.com/drive/14zEWoDudBCXF0NO-qgzoQpWUGBcJ2lPH?usp=sharing).\n",
        "\n",
        "In this notebook, I'll exemplify both approaches. The documentation of all modules and functions used here are available in the [catsim website](https://douglasrizzo.com.br/catsim/index.html).\n",
        "\n",
        "First, let's install catsim and import the relevant modules:"
      ]
    },
    {
      "cell_type": "code",
      "metadata": {
        "id": "qQoHGCBm-hPy"
      },
      "source": [
        "!pip install -U catsim"
      ],
      "execution_count": null,
      "outputs": []
    },
    {
      "cell_type": "code",
      "metadata": {
        "id": "xIcISp2T84Ar"
      },
      "source": [
        "# this function generates an item bank, in case the user cannot provide one\n",
        "from catsim.cat import generate_item_bank\n",
        "# simulation package contains the Simulator and all abstract classes\n",
        "from catsim.simulation import *\n",
        "# initialization package contains different initial proficiency estimation strategies\n",
        "from catsim.initialization import *\n",
        "# selection package contains different item selection strategies\n",
        "from catsim.selection import *\n",
        "# estimation package contains different proficiency estimation methods\n",
        "from catsim.estimation import *\n",
        "# stopping package contains different stopping criteria for the CAT\n",
        "from catsim.stopping import *\n",
        "import catsim.plot as catplot\n",
        "from catsim.irt import icc\n",
        "\n",
        "import random\n",
        "\n",
        "import matplotlib.pyplot as plt"
      ],
      "execution_count": null,
      "outputs": []
    },
    {
      "cell_type": "markdown",
      "metadata": {
        "id": "Vd-nuTUz-qwG"
      },
      "source": [
        "## Generating an item bank\n",
        "\n",
        "The `generate_item_bank()` function provides a convenient way to generate realistic item parameter matrices from probability distributions."
      ]
    },
    {
      "cell_type": "code",
      "metadata": {
        "id": "fG0jgrYY-Y4O"
      },
      "source": [
        "bank_size = 5000\n",
        "items = generate_item_bank(bank_size,itemtype='3PL')\n",
        "catplot.gen3d_dataset_scatter(items)"
      ],
      "execution_count": null,
      "outputs": []
    },
    {
      "cell_type": "markdown",
      "metadata": {
        "id": "CHT5GNia7GYY"
      },
      "source": [
        "### Visualizing parameter distribution\n",
        "\n",
        "`generate_item_bank()` returns a numpy.ndarray with 4 columns, corresponding to the discrimination, difficulty, guessing and upper-asymptote parameters of the 4-parameter logistic model of Item Response Theory.\n",
        "\n",
        "We can plot and visualize their distributions like so:"
      ]
    },
    {
      "cell_type": "code",
      "metadata": {
        "id": "hAq7ywvc7Ghc"
      },
      "source": [
        "catplot.param_dist(items, figsize=(9,7))"
      ],
      "execution_count": null,
      "outputs": []
    },
    {
      "cell_type": "markdown",
      "metadata": {
        "id": "wTM7hY4N_kM-"
      },
      "source": [
        "### Visualizing individual items\n",
        "\n",
        "catsim also provides a function to plot the characteristic curve of an item. Notice how this item has been generated according to the 4-parameter logistic model of the Item Response Theory. Item banks under different logistic models can be generated by changing the `itemtype` parameter of `generate_item_bank()`."
      ]
    },
    {
      "cell_type": "code",
      "metadata": {
        "id": "2hlI6NEV_kgV"
      },
      "source": [
        "a, b, c, d = items[0]\n",
        "catplot.item_curve(a,b,c,d)"
      ],
      "execution_count": null,
      "outputs": []
    },
    {
      "cell_type": "markdown",
      "metadata": {
        "id": "PqtGFns99A-i"
      },
      "source": [
        "## Running simulations\n",
        "\n",
        "A simulation requires the following objects:\n",
        "\n",
        "- an item parameter matrix\n",
        "- a proficiency initializer, which sets the initial $\\theta$ values for examinees\n",
        "- an item selector, which selects items to be applied to examinees according to some rule\n",
        "- a proficiency estimator, which estimates the new $\\theta$ values for examinees after an item is answered\n",
        "- a \"stopper\", an object which checks if the test must be stopped according to some rule\n",
        "\n",
        "We have already created an item parameter matrix, so let's go ahead and create the other objects..."
      ]
    },
    {
      "cell_type": "code",
      "metadata": {
        "id": "dBuKG8tRBIqk"
      },
      "source": [
        "initializer = RandomInitializer()\n",
        "selector = MaxInfoSelector()\n",
        "estimator = NumericalSearchEstimator()\n",
        "stopper = MaxItemStopper(20)"
      ],
      "execution_count": null,
      "outputs": []
    },
    {
      "cell_type": "markdown",
      "metadata": {
        "id": "pzojnvZQBPQ8"
      },
      "source": [
        "catsim provides different options for each of the aforementioned types of objects in the following modules\n",
        "\n",
        "- `catsim.simulation`\n",
        "- `catsim.initialization`\n",
        "- `catsim.selection`\n",
        "- `catsim.estimation`\n",
        "\n",
        "Each module also provides an abstract base class which can be inherited in order to create new methods that can be used in the simulation process."
      ]
    },
    {
      "cell_type": "markdown",
      "metadata": {
        "id": "geR6OJTLCPmf"
      },
      "source": [
        "### Creating a simulator\n",
        "\n",
        "The Simulator is the object that takes all of the objects created previously and executes a CAT simulation. To represent the examinees, The Simulator can receive either an integer, which will be converted to a normal distribution, or a 1D `numpy.ndarray`, whose values will be used as the proficiencies of the examinees.\n",
        "\n",
        "Here we will use an integer."
      ]
    },
    {
      "cell_type": "code",
      "metadata": {
        "id": "aRT3l4YeCCXr"
      },
      "source": [
        "s = Simulator(items, 10, initializer, selector, estimator, stopper)"
      ],
      "execution_count": null,
      "outputs": []
    },
    {
      "cell_type": "markdown",
      "metadata": {
        "id": "0Q9ksy1pBvON"
      },
      "source": [
        "### Starting the simulation\n",
        "\n",
        "To execute the simulations, call the simulate() method of the Simulator object."
      ]
    },
    {
      "cell_type": "code",
      "metadata": {
        "id": "4VDR3VgwJSOd"
      },
      "source": [
        "s.simulate(verbose=True)"
      ],
      "execution_count": null,
      "outputs": []
    },
    {
      "cell_type": "markdown",
      "metadata": {
        "id": "cRG2gqJlJRsC"
      },
      "source": [
        "### Acessing simulation results\n",
        "\n",
        "After the simulation if over, information is provided through the attributes of the Simulator:"
      ]
    },
    {
      "cell_type": "code",
      "metadata": {
        "id": "8jsffWnTJW5s"
      },
      "source": [
        "print('Bias:', s.bias)\n",
        "print('Mean squared error:', s.mse)\n",
        "print('Root mean squared error:', s.rmse)"
      ],
      "execution_count": null,
      "outputs": []
    },
    {
      "cell_type": "markdown",
      "metadata": {
        "id": "vmTns95nEsN0"
      },
      "source": [
        "Information for individual examinees can also be accessed through the attributes of the Simulator."
      ]
    },
    {
      "cell_type": "code",
      "metadata": {
        "id": "TPgekYSREsa1"
      },
      "source": [
        "examinee_index = 0\n",
        "print('Accessing examinee', examinee_index, 'results...')\n",
        "print('    True proficiency:', s.examinees[examinee_index])\n",
        "print('    Items administered:', s.administered_items[examinee_index])\n",
        "print('    Responses:', s.response_vectors[examinee_index])\n",
        "print('    Proficiency estimation during each step of the test:', s.estimations[examinee_index])"
      ],
      "execution_count": null,
      "outputs": []
    },
    {
      "cell_type": "markdown",
      "metadata": {
        "id": "l5_ObiWcJt6R"
      },
      "source": [
        "The test progress for an individual examinee can also be plotted using the `catsim.plot.test_progress(function)`. The amount of information in the chart can be tuned using different arguments for the function."
      ]
    },
    {
      "cell_type": "code",
      "metadata": {
        "id": "k2xoSQYQJuHp"
      },
      "source": [
        "catplot.test_progress(simulator=s,index=0)"
      ],
      "execution_count": null,
      "outputs": []
    },
    {
      "cell_type": "markdown",
      "metadata": {
        "id": "aTwNtQehDY0k"
      },
      "source": [
        "### Simulation example 2\n",
        "\n",
        "This example uses a `numpy.ndarray` to represent examinees. We will also plot more information than before in our test progress plot, adding test information to it."
      ]
    },
    {
      "cell_type": "code",
      "metadata": {
        "id": "RcYGLuDQDVTx"
      },
      "source": [
        "examinees = numpy.random.normal(size=10)\n",
        "s = Simulator(items, examinees, RandomInitializer(), MaxInfoSelector(), NumericalSearchEstimator(), MinErrorStopper(.3))\n",
        "s.simulate(verbose=True)\n",
        "catplot.test_progress(simulator=s,index=0, info=True)"
      ],
      "execution_count": null,
      "outputs": []
    },
    {
      "cell_type": "markdown",
      "metadata": {
        "id": "NGK_FPRBDZWM"
      },
      "source": [
        "### Simulating non-adaptive tests\n",
        "\n",
        "catsim can also simulate linear (non-adaptive) tests by using a linear item selector. The linear selector receives the item indices as arguments, retrieves them from the item parameter matrix and applies them in order to all examinees."
      ]
    },
    {
      "cell_type": "code",
      "metadata": {
        "id": "wDNa1z7gDVdw"
      },
      "source": [
        "indexes = numpy.random.choice(items.shape[0], 50, replace=False)\n",
        "print('The following items will be applied to the examinees in this order:', indexes)\n",
        "s = Simulator(items, 10, RandomInitializer(), LinearSelector(indexes), NumericalSearchEstimator(), MaxItemStopper(50))\n",
        "s.simulate(verbose=True)"
      ],
      "execution_count": null,
      "outputs": []
    },
    {
      "cell_type": "markdown",
      "metadata": {
        "id": "Puveg0QRKd9X"
      },
      "source": [
        "Here, we will also plot the estimation error for an examinee's $\\hat\\theta$ value during the progress of the test."
      ]
    },
    {
      "cell_type": "code",
      "metadata": {
        "id": "DbzyGPxsKeKP"
      },
      "source": [
        "catplot.test_progress(simulator=s,index=0, info=True, see=True)"
      ],
      "execution_count": null,
      "outputs": []
    },
    {
      "cell_type": "markdown",
      "metadata": {
        "id": "Gb5SdX1U9CAk"
      },
      "source": [
        "## Using catsim objects outside of a Simulator\n",
        "\n",
        "The objects provided by catsim can also be used directly, outside of a simulation. This allows users to use these objects in their own software, to power their own CAT applications.\n",
        "\n",
        "\n",
        "Let's pretend we are in the middle of a test application and create some dummy data for an examinee, as well as some objects we will use to select the next item for this examinee, re-estimate their proficiency and check if the test should be stopped or if a new item should be applied to the examinee."
      ]
    },
    {
      "cell_type": "code",
      "metadata": {
        "id": "YGfqvSw99CK0"
      },
      "source": [
        "responses = [True, True, False, False]\n",
        "administered_items = [1435, 3221, 17, 881]\n",
        "\n",
        "initializer = FixedPointInitializer(0)\n",
        "selector = MaxInfoSelector()\n",
        "estimator = NumericalSearchEstimator()\n",
        "stopper = MinErrorStopper(.2)"
      ],
      "execution_count": null,
      "outputs": []
    },
    {
      "cell_type": "markdown",
      "metadata": {
        "id": "j1j0D3yvXaNr"
      },
      "source": [
        "This dummy data means that the examinee has answered items 1435, 3221, 17 and 881 from our item bank (generated at the start of this notebook). They have answered the first two items correctly (represented by the `True` values in the `responses` list) and two items incorrectly (the last values in the list)."
      ]
    },
    {
      "cell_type": "markdown",
      "metadata": {
        "id": "9JUCIvqLFxn-"
      },
      "source": [
        "### Initializing $\\hat\\theta$\n",
        "\n",
        "Even though this information is already enough to estimate the current proficiency of the examinee, we'll go ahead and use our initializer to estimate a dummy initial proficiency anyway."
      ]
    },
    {
      "cell_type": "code",
      "metadata": {
        "id": "jWXVYY0PFx0m"
      },
      "source": [
        "est_theta = initializer.initialize()\n",
        "print('Examinee initial proficiency:', est_theta)"
      ],
      "execution_count": null,
      "outputs": []
    },
    {
      "cell_type": "markdown",
      "metadata": {
        "id": "rNad1FS6FyD8"
      },
      "source": [
        "### Estimating a new $\\hat\\theta$\n",
        "\n",
        "Now, we will use the answers the examinee has given so far (remember, we're pretending they have already answered a few items) to estimate a more precise $\\hat\\theta$ proficiency for them.\n",
        "\n",
        "Internally, the estimator uses the item bank and the indices of the administered items to get the relevant item parameters, then uses the response vector to know which items the examinee has answered correctly and incorrectly to generate the new value for $\\hat\\theta$.\n",
        "\n",
        "Some estimators may or may not use the current value of $\\hat\\theta$ to speed up estimation.\n",
        "\n",
        "**After getting to the end of the notebook, come back to this cell to simulate a new item being applied to this examinee**."
      ]
    },
    {
      "cell_type": "code",
      "metadata": {
        "id": "FSJgic1KFyUX"
      },
      "source": [
        "new_theta = estimator.estimate(items=items, administered_items=administered_items, response_vector=responses, est_theta=est_theta)\n",
        "print('Estimated proficiency, given answered items:', new_theta)"
      ],
      "execution_count": null,
      "outputs": []
    },
    {
      "cell_type": "markdown",
      "metadata": {
        "id": "dE4TxmNoIDtw"
      },
      "source": [
        "### Checking whether the test should end\n",
        "\n",
        "We do not know whether the CAT should select another item to the examinee or if the test should end. The stoper will give us this answer through the `stop()` method."
      ]
    },
    {
      "cell_type": "code",
      "metadata": {
        "id": "w16lhjAyIEBl"
      },
      "source": [
        "_stop = stopper.stop(administered_items=items[administered_items], theta=est_theta)\n",
        "print('Should the test be stopped:', _stop)"
      ],
      "execution_count": null,
      "outputs": []
    },
    {
      "cell_type": "markdown",
      "metadata": {
        "id": "4U_vMZqvFyme"
      },
      "source": [
        "### Selecting a new item\n",
        "\n",
        "The selector takes the item parameter matrix and the current $\\hat\\theta$ value to select the new item the examinee will answer. It uses the indices of administered items to ignore them."
      ]
    },
    {
      "cell_type": "code",
      "metadata": {
        "id": "Mt9l4xiyFyzD"
      },
      "source": [
        "item_index = selector.select(items=items, administered_items=administered_items, est_theta=est_theta)\n",
        "print('Next item to be administered:', item_index)"
      ],
      "execution_count": null,
      "outputs": []
    },
    {
      "cell_type": "markdown",
      "metadata": {
        "id": "Txi6DGaoLBUt"
      },
      "source": [
        "### Simulating a response\n",
        "\n",
        "In order to apply the next item, we need to pretend here that the examinee has answered an item. In the real world, this information could be fetched by an external application, but here we will use IRT to simulate the answer probabilistically.\n",
        "\n",
        "For that, we will use a hypothetical true proficiency value of $\\theta$. It is important that this value is fixed, as it represents the abilities of a person when taking the test.\n",
        "\n",
        "(By the way, this is exactly what the Simulator does during simulations.)"
      ]
    },
    {
      "cell_type": "code",
      "metadata": {
        "id": "BtOTlvIRLYU2"
      },
      "source": [
        "true_theta = 0.8\n",
        "a, b, c, d = items[item_index]\n",
        "prob = icc(true_theta, a, b, c, d)\n",
        "correct = prob > random.uniform(0, 1)\n",
        "\n",
        "print('Probability to correctly answer item:', prob)\n",
        "print('Did the user answer the selected item correctly?', correct)"
      ],
      "execution_count": null,
      "outputs": []
    },
    {
      "cell_type": "markdown",
      "metadata": {
        "id": "eCcJQ1DLMiDi"
      },
      "source": [
        "Finally, we add the index of the administered item to the examinee and their answer to the item to our lists and we are ready for the next step of the adaptive test.\n",
        "\n",
        "Go back to the **\"Estimating a new $\\hat\\theta$\"** step above to simulate another step of the CAT."
      ]
    },
    {
      "cell_type": "code",
      "metadata": {
        "id": "BFb__IKhLx-T"
      },
      "source": [
        "administered_items.append(item_index)\n",
        "responses.append(correct)"
      ],
      "execution_count": null,
      "outputs": []
    }
  ]
}